{
 "cells": [
  {
   "cell_type": "code",
   "execution_count": 1,
   "metadata": {},
   "outputs": [],
   "source": [
    "import pandas as pd\n",
    "import numpy as np\n"
   ]
  },
  {
   "cell_type": "code",
   "execution_count": 26,
   "metadata": {},
   "outputs": [],
   "source": [
    "df = pd.read_csv('../results/wikitq_image_0_999_5.csv')"
   ]
  },
  {
   "cell_type": "code",
   "execution_count": 27,
   "metadata": {},
   "outputs": [
    {
     "data": {
      "text/plain": [
       "np.int64(478)"
      ]
     },
     "execution_count": 27,
     "metadata": {},
     "output_type": "execute_result"
    }
   ],
   "source": [
    "df.score.sum()"
   ]
  },
  {
   "cell_type": "code",
   "execution_count": 34,
   "metadata": {},
   "outputs": [
    {
     "data": {
      "text/plain": [
       "np.int64(482)"
      ]
     },
     "execution_count": 34,
     "metadata": {},
     "output_type": "execute_result"
    }
   ],
   "source": [
    "df = pd.read_csv('../results/wikitq_image_t30_0_999.csv')\n",
    "df.score.sum()"
   ]
  },
  {
   "cell_type": "code",
   "execution_count": 44,
   "metadata": {},
   "outputs": [],
   "source": [
    "from datasets import load_dataset\n",
    "df2 = load_dataset('stanford/wikitablequestions', split='test', trust_remote_code=True).to_pandas()"
   ]
  },
  {
   "cell_type": "code",
   "execution_count": 47,
   "metadata": {},
   "outputs": [
    {
     "data": {
      "text/plain": [
       "np.float64(1.0676795580110496)"
      ]
     },
     "execution_count": 47,
     "metadata": {},
     "output_type": "execute_result"
    }
   ],
   "source": [
    "df2.answers.apply(lambda x: len(x)).mean()"
   ]
  },
  {
   "cell_type": "code",
   "execution_count": 36,
   "metadata": {},
   "outputs": [
    {
     "name": "stderr",
     "output_type": "stream",
     "text": [
      "/root/anaconda3/lib/python3.10/site-packages/tqdm/auto.py:21: TqdmWarning: IProgress not found. Please update jupyter and ipywidgets. See https://ipywidgets.readthedocs.io/en/stable/user_install.html\n",
      "  from .autonotebook import tqdm as notebook_tqdm\n"
     ]
    }
   ],
   "source": [
    "df_test = pd.read_json(\"hf://datasets/TableQAKit/WTQ/test.json\")"
   ]
  },
  {
   "cell_type": "code",
   "execution_count": 48,
   "metadata": {},
   "outputs": [
    {
     "data": {
      "text/html": [
       "<div>\n",
       "<style scoped>\n",
       "    .dataframe tbody tr th:only-of-type {\n",
       "        vertical-align: middle;\n",
       "    }\n",
       "\n",
       "    .dataframe tbody tr th {\n",
       "        vertical-align: top;\n",
       "    }\n",
       "\n",
       "    .dataframe thead th {\n",
       "        text-align: right;\n",
       "    }\n",
       "</style>\n",
       "<table border=\"1\" class=\"dataframe\">\n",
       "  <thead>\n",
       "    <tr style=\"text-align: right;\">\n",
       "      <th></th>\n",
       "      <th>id</th>\n",
       "      <th>question</th>\n",
       "      <th>table_id</th>\n",
       "      <th>table</th>\n",
       "      <th>answer_text</th>\n",
       "      <th>struct_in</th>\n",
       "      <th>text_in</th>\n",
       "      <th>seq_out</th>\n",
       "    </tr>\n",
       "  </thead>\n",
       "  <tbody>\n",
       "    <tr>\n",
       "      <th>0</th>\n",
       "      <td>nu-0</td>\n",
       "      <td>which country had the most cyclists finish wit...</td>\n",
       "      <td>csv/203-csv/733.csv</td>\n",
       "      <td>{'header': ['Rank', 'Cyclist', 'Team', 'Time',...</td>\n",
       "      <td>[Italy]</td>\n",
       "      <td>col : rank | cyclist | team | time | uci proto...</td>\n",
       "      <td>which country had the most cyclists finish wit...</td>\n",
       "      <td>italy</td>\n",
       "    </tr>\n",
       "    <tr>\n",
       "      <th>1</th>\n",
       "      <td>nu-1</td>\n",
       "      <td>how many people were murdered in 1940/41?</td>\n",
       "      <td>csv/204-csv/149.csv</td>\n",
       "      <td>{'header': ['Description Losses', '1939/40', '...</td>\n",
       "      <td>[100,000]</td>\n",
       "      <td>col : description losses | 1939/40 | 1940/41 |...</td>\n",
       "      <td>how many people were murdered in 1940/41?</td>\n",
       "      <td>100,000</td>\n",
       "    </tr>\n",
       "    <tr>\n",
       "      <th>2</th>\n",
       "      <td>nu-2</td>\n",
       "      <td>how long did it take for the new york american...</td>\n",
       "      <td>csv/203-csv/435.csv</td>\n",
       "      <td>{'header': ['Year', 'Division', 'League', 'Reg...</td>\n",
       "      <td>[17 years]</td>\n",
       "      <td>col : year | division | league | reg. season |...</td>\n",
       "      <td>how long did it take for the new york american...</td>\n",
       "      <td>17 years</td>\n",
       "    </tr>\n",
       "    <tr>\n",
       "      <th>3</th>\n",
       "      <td>nu-3</td>\n",
       "      <td>alfie's birthday party aired on january 19. wh...</td>\n",
       "      <td>csv/204-csv/803.csv</td>\n",
       "      <td>{'header': ['Series #', 'Season #', 'Title', '...</td>\n",
       "      <td>[January 26, 1995]</td>\n",
       "      <td>col : series # | season # | title | notes | or...</td>\n",
       "      <td>alfie's birthday party aired on january 19. wh...</td>\n",
       "      <td>january 26, 1995</td>\n",
       "    </tr>\n",
       "    <tr>\n",
       "      <th>4</th>\n",
       "      <td>nu-4</td>\n",
       "      <td>what is the number of 1st place finishes acros...</td>\n",
       "      <td>csv/204-csv/272.csv</td>\n",
       "      <td>{'header': ['Date', 'Competition', 'Location',...</td>\n",
       "      <td>[17]</td>\n",
       "      <td>col : date | competition | location | country ...</td>\n",
       "      <td>what is the number of 1st place finishes acros...</td>\n",
       "      <td>17</td>\n",
       "    </tr>\n",
       "    <tr>\n",
       "      <th>...</th>\n",
       "      <td>...</td>\n",
       "      <td>...</td>\n",
       "      <td>...</td>\n",
       "      <td>...</td>\n",
       "      <td>...</td>\n",
       "      <td>...</td>\n",
       "      <td>...</td>\n",
       "      <td>...</td>\n",
       "    </tr>\n",
       "    <tr>\n",
       "      <th>95</th>\n",
       "      <td>nu-95</td>\n",
       "      <td>what is the total number of wins listed for th...</td>\n",
       "      <td>csv/204-csv/369.csv</td>\n",
       "      <td>{'header': ['Golfer', 'Country', 'Wins', 'Matc...</td>\n",
       "      <td>[22]</td>\n",
       "      <td>col : golfer | country | wins | match play | c...</td>\n",
       "      <td>what is the total number of wins listed for th...</td>\n",
       "      <td>22</td>\n",
       "    </tr>\n",
       "    <tr>\n",
       "      <th>96</th>\n",
       "      <td>nu-96</td>\n",
       "      <td>if italy and brazil combined box office revenu...</td>\n",
       "      <td>csv/203-csv/448.csv</td>\n",
       "      <td>{'header': ['Rank', 'Country', 'Box Office', '...</td>\n",
       "      <td>[$1.56 billion]</td>\n",
       "      <td>col : rank | country | box office | year | box...</td>\n",
       "      <td>if italy and brazil combined box office revenu...</td>\n",
       "      <td>$1.56 billion</td>\n",
       "    </tr>\n",
       "    <tr>\n",
       "      <th>97</th>\n",
       "      <td>nu-97</td>\n",
       "      <td>when did the restaurant \"verre\" at the hilton ...</td>\n",
       "      <td>csv/202-csv/93.csv</td>\n",
       "      <td>{'header': ['Restaurant', 'Location', 'Date Op...</td>\n",
       "      <td>[October 2011]</td>\n",
       "      <td>col : restaurant | location | date opened | da...</td>\n",
       "      <td>when did the restaurant \"verre\" at the hilton ...</td>\n",
       "      <td>october 2011</td>\n",
       "    </tr>\n",
       "    <tr>\n",
       "      <th>98</th>\n",
       "      <td>nu-98</td>\n",
       "      <td>who finished immediately after danny osborne?</td>\n",
       "      <td>csv/204-csv/955.csv</td>\n",
       "      <td>{'header': ['Position', 'Driver', 'No.', 'Car'...</td>\n",
       "      <td>[Mike Imrie]</td>\n",
       "      <td>col : position | driver | no. | car | entrant ...</td>\n",
       "      <td>who finished immediately after danny osborne?</td>\n",
       "      <td>mike imrie</td>\n",
       "    </tr>\n",
       "    <tr>\n",
       "      <th>99</th>\n",
       "      <td>nu-99</td>\n",
       "      <td>where is saint anslem school located?</td>\n",
       "      <td>csv/200-csv/8.csv</td>\n",
       "      <td>{'header': ['District', 'Location', 'Communiti...</td>\n",
       "      <td>[Chester Township, Ohio]</td>\n",
       "      <td>col : district | location | communities served...</td>\n",
       "      <td>where is saint anslem school located?</td>\n",
       "      <td>chester township, ohio</td>\n",
       "    </tr>\n",
       "  </tbody>\n",
       "</table>\n",
       "<p>100 rows × 8 columns</p>\n",
       "</div>"
      ],
      "text/plain": [
       "       id                                           question  \\\n",
       "0    nu-0  which country had the most cyclists finish wit...   \n",
       "1    nu-1          how many people were murdered in 1940/41?   \n",
       "2    nu-2  how long did it take for the new york american...   \n",
       "3    nu-3  alfie's birthday party aired on january 19. wh...   \n",
       "4    nu-4  what is the number of 1st place finishes acros...   \n",
       "..    ...                                                ...   \n",
       "95  nu-95  what is the total number of wins listed for th...   \n",
       "96  nu-96  if italy and brazil combined box office revenu...   \n",
       "97  nu-97  when did the restaurant \"verre\" at the hilton ...   \n",
       "98  nu-98      who finished immediately after danny osborne?   \n",
       "99  nu-99              where is saint anslem school located?   \n",
       "\n",
       "               table_id                                              table  \\\n",
       "0   csv/203-csv/733.csv  {'header': ['Rank', 'Cyclist', 'Team', 'Time',...   \n",
       "1   csv/204-csv/149.csv  {'header': ['Description Losses', '1939/40', '...   \n",
       "2   csv/203-csv/435.csv  {'header': ['Year', 'Division', 'League', 'Reg...   \n",
       "3   csv/204-csv/803.csv  {'header': ['Series #', 'Season #', 'Title', '...   \n",
       "4   csv/204-csv/272.csv  {'header': ['Date', 'Competition', 'Location',...   \n",
       "..                  ...                                                ...   \n",
       "95  csv/204-csv/369.csv  {'header': ['Golfer', 'Country', 'Wins', 'Matc...   \n",
       "96  csv/203-csv/448.csv  {'header': ['Rank', 'Country', 'Box Office', '...   \n",
       "97   csv/202-csv/93.csv  {'header': ['Restaurant', 'Location', 'Date Op...   \n",
       "98  csv/204-csv/955.csv  {'header': ['Position', 'Driver', 'No.', 'Car'...   \n",
       "99    csv/200-csv/8.csv  {'header': ['District', 'Location', 'Communiti...   \n",
       "\n",
       "                 answer_text  \\\n",
       "0                    [Italy]   \n",
       "1                  [100,000]   \n",
       "2                 [17 years]   \n",
       "3         [January 26, 1995]   \n",
       "4                       [17]   \n",
       "..                       ...   \n",
       "95                      [22]   \n",
       "96           [$1.56 billion]   \n",
       "97            [October 2011]   \n",
       "98              [Mike Imrie]   \n",
       "99  [Chester Township, Ohio]   \n",
       "\n",
       "                                            struct_in  \\\n",
       "0   col : rank | cyclist | team | time | uci proto...   \n",
       "1   col : description losses | 1939/40 | 1940/41 |...   \n",
       "2   col : year | division | league | reg. season |...   \n",
       "3   col : series # | season # | title | notes | or...   \n",
       "4   col : date | competition | location | country ...   \n",
       "..                                                ...   \n",
       "95  col : golfer | country | wins | match play | c...   \n",
       "96  col : rank | country | box office | year | box...   \n",
       "97  col : restaurant | location | date opened | da...   \n",
       "98  col : position | driver | no. | car | entrant ...   \n",
       "99  col : district | location | communities served...   \n",
       "\n",
       "                                              text_in                 seq_out  \n",
       "0   which country had the most cyclists finish wit...                   italy  \n",
       "1           how many people were murdered in 1940/41?                 100,000  \n",
       "2   how long did it take for the new york american...                17 years  \n",
       "3   alfie's birthday party aired on january 19. wh...        january 26, 1995  \n",
       "4   what is the number of 1st place finishes acros...                      17  \n",
       "..                                                ...                     ...  \n",
       "95  what is the total number of wins listed for th...                      22  \n",
       "96  if italy and brazil combined box office revenu...           $1.56 billion  \n",
       "97  when did the restaurant \"verre\" at the hilton ...            october 2011  \n",
       "98      who finished immediately after danny osborne?              mike imrie  \n",
       "99              where is saint anslem school located?  chester township, ohio  \n",
       "\n",
       "[100 rows x 8 columns]"
      ]
     },
     "execution_count": 48,
     "metadata": {},
     "output_type": "execute_result"
    }
   ],
   "source": [
    "df_test.head(100)"
   ]
  },
  {
   "cell_type": "code",
   "execution_count": 85,
   "metadata": {},
   "outputs": [
    {
     "name": "stderr",
     "output_type": "stream",
     "text": [
      "Downloading data: 197MB [00:20, 9.74MB/s] \n",
      "Generating train split: 92283 examples [00:06, 13792.95 examples/s]\n",
      "Generating validation split: 12792 examples [00:00, 16079.46 examples/s]\n",
      "Generating test split: 12779 examples [00:00, 16327.01 examples/s]\n"
     ]
    }
   ],
   "source": [
    "tabfact = load_dataset('ibm/tab_fact', split='test', trust_remote_code=True).to_pandas()"
   ]
  },
  {
   "cell_type": "code",
   "execution_count": 88,
   "metadata": {},
   "outputs": [],
   "source": [
    "tabfact_dict = load_dataset('ibm/tab_fact', split='test', trust_remote_code=True).to_dict()"
   ]
  },
  {
   "cell_type": "code",
   "execution_count": 99,
   "metadata": {},
   "outputs": [],
   "source": [
    "data = load_dataset('ibm/tab_fact', split='test', trust_remote_code=True)"
   ]
  },
  {
   "cell_type": "code",
   "execution_count": 103,
   "metadata": {},
   "outputs": [
    {
     "data": {
      "text/plain": [
       "'tournament that tony lema have not participate in include the master tournament , the us open , the pga championship and the open championship'"
      ]
     },
     "execution_count": 103,
     "metadata": {},
     "output_type": "execute_result"
    }
   ],
   "source": [
    "data.to_pandas().iloc[6].statement"
   ]
  },
  {
   "cell_type": "code",
   "execution_count": 105,
   "metadata": {},
   "outputs": [
    {
     "data": {
      "text/plain": [
       "{'id': {0: 0, 1: 0, 2: 0, 3: 0, 4: 0, 5: 0, 6: 0, 7: 0, 8: 0, 9: 0},\n",
       " 'table': {0: {'id': '2-1570274-4.html.csv',\n",
       "   'header': array(['tournament', 'wins', 'top - 5', 'top - 10', 'top - 25', 'events',\n",
       "          'cuts made'], dtype=object),\n",
       "   'rows': array([array(['masters tournament', '0', '1', '2', '4', '4', '4'], dtype=object),\n",
       "          array(['us open', '0', '2', '3', '4', '6', '5'], dtype=object),\n",
       "          array(['the open championship', '1', '2', '2', '2', '3', '3'],\n",
       "                dtype=object)                                           ,\n",
       "          array(['pga championship', '0', '0', '1', '2', '5', '4'], dtype=object),\n",
       "          array(['totals', '1', '5', '8', '12', '18', '16'], dtype=object)],\n",
       "         dtype=object),\n",
       "   'caption': 'tony lema'},\n",
       "  1: {'id': '2-1570274-4.html.csv',\n",
       "   'header': array(['tournament', 'wins', 'top - 5', 'top - 10', 'top - 25', 'events',\n",
       "          'cuts made'], dtype=object),\n",
       "   'rows': array([array(['masters tournament', '0', '1', '2', '4', '4', '4'], dtype=object),\n",
       "          array(['us open', '0', '2', '3', '4', '6', '5'], dtype=object),\n",
       "          array(['the open championship', '1', '2', '2', '2', '3', '3'],\n",
       "                dtype=object)                                           ,\n",
       "          array(['pga championship', '0', '0', '1', '2', '5', '4'], dtype=object),\n",
       "          array(['totals', '1', '5', '8', '12', '18', '16'], dtype=object)],\n",
       "         dtype=object),\n",
       "   'caption': 'tony lema'},\n",
       "  2: {'id': '2-1570274-4.html.csv',\n",
       "   'header': array(['tournament', 'wins', 'top - 5', 'top - 10', 'top - 25', 'events',\n",
       "          'cuts made'], dtype=object),\n",
       "   'rows': array([array(['masters tournament', '0', '1', '2', '4', '4', '4'], dtype=object),\n",
       "          array(['us open', '0', '2', '3', '4', '6', '5'], dtype=object),\n",
       "          array(['the open championship', '1', '2', '2', '2', '3', '3'],\n",
       "                dtype=object)                                           ,\n",
       "          array(['pga championship', '0', '0', '1', '2', '5', '4'], dtype=object),\n",
       "          array(['totals', '1', '5', '8', '12', '18', '16'], dtype=object)],\n",
       "         dtype=object),\n",
       "   'caption': 'tony lema'},\n",
       "  3: {'id': '2-1570274-4.html.csv',\n",
       "   'header': array(['tournament', 'wins', 'top - 5', 'top - 10', 'top - 25', 'events',\n",
       "          'cuts made'], dtype=object),\n",
       "   'rows': array([array(['masters tournament', '0', '1', '2', '4', '4', '4'], dtype=object),\n",
       "          array(['us open', '0', '2', '3', '4', '6', '5'], dtype=object),\n",
       "          array(['the open championship', '1', '2', '2', '2', '3', '3'],\n",
       "                dtype=object)                                           ,\n",
       "          array(['pga championship', '0', '0', '1', '2', '5', '4'], dtype=object),\n",
       "          array(['totals', '1', '5', '8', '12', '18', '16'], dtype=object)],\n",
       "         dtype=object),\n",
       "   'caption': 'tony lema'},\n",
       "  4: {'id': '2-1570274-4.html.csv',\n",
       "   'header': array(['tournament', 'wins', 'top - 5', 'top - 10', 'top - 25', 'events',\n",
       "          'cuts made'], dtype=object),\n",
       "   'rows': array([array(['masters tournament', '0', '1', '2', '4', '4', '4'], dtype=object),\n",
       "          array(['us open', '0', '2', '3', '4', '6', '5'], dtype=object),\n",
       "          array(['the open championship', '1', '2', '2', '2', '3', '3'],\n",
       "                dtype=object)                                           ,\n",
       "          array(['pga championship', '0', '0', '1', '2', '5', '4'], dtype=object),\n",
       "          array(['totals', '1', '5', '8', '12', '18', '16'], dtype=object)],\n",
       "         dtype=object),\n",
       "   'caption': 'tony lema'},\n",
       "  5: {'id': '2-1570274-4.html.csv',\n",
       "   'header': array(['tournament', 'wins', 'top - 5', 'top - 10', 'top - 25', 'events',\n",
       "          'cuts made'], dtype=object),\n",
       "   'rows': array([array(['masters tournament', '0', '1', '2', '4', '4', '4'], dtype=object),\n",
       "          array(['us open', '0', '2', '3', '4', '6', '5'], dtype=object),\n",
       "          array(['the open championship', '1', '2', '2', '2', '3', '3'],\n",
       "                dtype=object)                                           ,\n",
       "          array(['pga championship', '0', '0', '1', '2', '5', '4'], dtype=object),\n",
       "          array(['totals', '1', '5', '8', '12', '18', '16'], dtype=object)],\n",
       "         dtype=object),\n",
       "   'caption': 'tony lema'},\n",
       "  6: {'id': '2-1570274-4.html.csv',\n",
       "   'header': array(['tournament', 'wins', 'top - 5', 'top - 10', 'top - 25', 'events',\n",
       "          'cuts made'], dtype=object),\n",
       "   'rows': array([array(['masters tournament', '0', '1', '2', '4', '4', '4'], dtype=object),\n",
       "          array(['us open', '0', '2', '3', '4', '6', '5'], dtype=object),\n",
       "          array(['the open championship', '1', '2', '2', '2', '3', '3'],\n",
       "                dtype=object)                                           ,\n",
       "          array(['pga championship', '0', '0', '1', '2', '5', '4'], dtype=object),\n",
       "          array(['totals', '1', '5', '8', '12', '18', '16'], dtype=object)],\n",
       "         dtype=object),\n",
       "   'caption': 'tony lema'},\n",
       "  7: {'id': '2-1570274-4.html.csv',\n",
       "   'header': array(['tournament', 'wins', 'top - 5', 'top - 10', 'top - 25', 'events',\n",
       "          'cuts made'], dtype=object),\n",
       "   'rows': array([array(['masters tournament', '0', '1', '2', '4', '4', '4'], dtype=object),\n",
       "          array(['us open', '0', '2', '3', '4', '6', '5'], dtype=object),\n",
       "          array(['the open championship', '1', '2', '2', '2', '3', '3'],\n",
       "                dtype=object)                                           ,\n",
       "          array(['pga championship', '0', '0', '1', '2', '5', '4'], dtype=object),\n",
       "          array(['totals', '1', '5', '8', '12', '18', '16'], dtype=object)],\n",
       "         dtype=object),\n",
       "   'caption': 'tony lema'},\n",
       "  8: {'id': '2-1570274-4.html.csv',\n",
       "   'header': array(['tournament', 'wins', 'top - 5', 'top - 10', 'top - 25', 'events',\n",
       "          'cuts made'], dtype=object),\n",
       "   'rows': array([array(['masters tournament', '0', '1', '2', '4', '4', '4'], dtype=object),\n",
       "          array(['us open', '0', '2', '3', '4', '6', '5'], dtype=object),\n",
       "          array(['the open championship', '1', '2', '2', '2', '3', '3'],\n",
       "                dtype=object)                                           ,\n",
       "          array(['pga championship', '0', '0', '1', '2', '5', '4'], dtype=object),\n",
       "          array(['totals', '1', '5', '8', '12', '18', '16'], dtype=object)],\n",
       "         dtype=object),\n",
       "   'caption': 'tony lema'},\n",
       "  9: {'id': '2-1570274-4.html.csv',\n",
       "   'header': array(['tournament', 'wins', 'top - 5', 'top - 10', 'top - 25', 'events',\n",
       "          'cuts made'], dtype=object),\n",
       "   'rows': array([array(['masters tournament', '0', '1', '2', '4', '4', '4'], dtype=object),\n",
       "          array(['us open', '0', '2', '3', '4', '6', '5'], dtype=object),\n",
       "          array(['the open championship', '1', '2', '2', '2', '3', '3'],\n",
       "                dtype=object)                                           ,\n",
       "          array(['pga championship', '0', '0', '1', '2', '5', '4'], dtype=object),\n",
       "          array(['totals', '1', '5', '8', '12', '18', '16'], dtype=object)],\n",
       "         dtype=object),\n",
       "   'caption': 'tony lema'}},\n",
       " 'statement': {0: 'tony lema be in the top 5 for the master tournament , the us open , and the open championship',\n",
       "  1: 'tournament that tony lema have participate in include the master tournament , the us open , the pga championship and the open championship',\n",
       "  2: 'the only tournament that tony lema win in be the open championship',\n",
       "  3: 'tony lema do not win in the us open',\n",
       "  4: 'tony lema make it to the top 10 in the pga championship , but do not continue on',\n",
       "  5: 'tony lema be in the top 5 for the pga championship , the us open , and the open championship',\n",
       "  6: 'tournament that tony lema have not participate in include the master tournament , the us open , the pga championship and the open championship',\n",
       "  7: 'tournament that tony lema won in be pga championship',\n",
       "  8: 'tony lema do not win in the pga championship',\n",
       "  9: 'tony lema make it to the top 10 in the us open , but do not continue on'},\n",
       " 'label': {0: 1, 1: 1, 2: 1, 3: 1, 4: 1, 5: 0, 6: 0, 7: 0, 8: 0, 9: 0}}"
      ]
     },
     "execution_count": 105,
     "metadata": {},
     "output_type": "execute_result"
    }
   ],
   "source": [
    "tabfact.iloc[:10].to_dict()"
   ]
  },
  {
   "cell_type": "code",
   "execution_count": 82,
   "metadata": {},
   "outputs": [
    {
     "data": {
      "text/html": [
       "<div>\n",
       "<style scoped>\n",
       "    .dataframe tbody tr th:only-of-type {\n",
       "        vertical-align: middle;\n",
       "    }\n",
       "\n",
       "    .dataframe tbody tr th {\n",
       "        vertical-align: top;\n",
       "    }\n",
       "\n",
       "    .dataframe thead th {\n",
       "        text-align: right;\n",
       "    }\n",
       "</style>\n",
       "<table border=\"1\" class=\"dataframe\">\n",
       "  <thead>\n",
       "    <tr style=\"text-align: right;\">\n",
       "      <th></th>\n",
       "      <th>id</th>\n",
       "      <th>pre_text</th>\n",
       "      <th>post_text</th>\n",
       "      <th>table</th>\n",
       "      <th>question</th>\n",
       "      <th>answer</th>\n",
       "      <th>final_result</th>\n",
       "      <th>program_re</th>\n",
       "      <th>gold_inds</th>\n",
       "    </tr>\n",
       "  </thead>\n",
       "  <tbody>\n",
       "    <tr>\n",
       "      <th>0</th>\n",
       "      <td>ETR/2016/page_23.pdf-2</td>\n",
       "      <td>[entergy corporation and subsidiaries manageme...</td>\n",
       "      <td>[the retail electric price variance is primari...</td>\n",
       "      <td>[[, amount ( in millions )], [2014 net revenue...</td>\n",
       "      <td>what is the net change in net revenue during 2...</td>\n",
       "      <td>94</td>\n",
       "      <td>94</td>\n",
       "      <td>subtract(5829, 5735)</td>\n",
       "      <td>[the 2014 net revenue of amount ( in millions ...</td>\n",
       "    </tr>\n",
       "    <tr>\n",
       "      <th>1</th>\n",
       "      <td>INTC/2015/page_41.pdf-4</td>\n",
       "      <td>[item 1b ., unresolved staff comments not appl...</td>\n",
       "      <td>[1 leases on portions of the land used for the...</td>\n",
       "      <td>[[( square feet in millions ), unitedstates, o...</td>\n",
       "      <td>what percentage of total facilities as measure...</td>\n",
       "      <td>14%</td>\n",
       "      <td>14%</td>\n",
       "      <td>divide(8.1, 56.0)</td>\n",
       "      <td>[( square feet in millions ) the leased facili...</td>\n",
       "    </tr>\n",
       "    <tr>\n",
       "      <th>2</th>\n",
       "      <td>ADI/2011/page_61.pdf-2</td>\n",
       "      <td>[undesignated hedges was $ 41.2 million and $ ...</td>\n",
       "      <td>[the amounts earned and owed under the swap ag...</td>\n",
       "      <td>[[statement of income classification, statemen...</td>\n",
       "      <td>what is the percentage change in cash flow hed...</td>\n",
       "      <td>9.9%</td>\n",
       "      <td>9.9%</td>\n",
       "      <td>subtract(153.7, 139.9), divide(#0, 139.9)</td>\n",
       "      <td>[the total notional amounts of derivative inst...</td>\n",
       "    </tr>\n",
       "    <tr>\n",
       "      <th>3</th>\n",
       "      <td>FIS/2010/page_70.pdf-2</td>\n",
       "      <td>[chairman and a director of the board of fis a...</td>\n",
       "      <td>[we recorded a preliminary allocation of the p...</td>\n",
       "      <td>[[value of metavante common stock, $ 4066.4], ...</td>\n",
       "      <td>what portion of total purchase price is relate...</td>\n",
       "      <td>2.9%</td>\n",
       "      <td>2.9%</td>\n",
       "      <td>divide(121.4, 4187.8)</td>\n",
       "      <td>[value of metavante common stock the value of ...</td>\n",
       "    </tr>\n",
       "    <tr>\n",
       "      <th>4</th>\n",
       "      <td>MAS/2017/page_27.pdf-2</td>\n",
       "      <td>[performance graph the table below compares th...</td>\n",
       "      <td>[$ 50.00 $ 100.00 $ 150.00 $ 200.00 $ 250.00 $...</td>\n",
       "      <td>[[, 2013, 2014, 2015, 2016, 2017], [masco, $ 1...</td>\n",
       "      <td>what was the difference in percentage cumulati...</td>\n",
       "      <td></td>\n",
       "      <td>111.97%</td>\n",
       "      <td>subtract(318.46, const_100), divide(#0, const_...</td>\n",
       "      <td>[the masco of 2013 is $ 138.48 ; the masco of ...</td>\n",
       "    </tr>\n",
       "    <tr>\n",
       "      <th>5</th>\n",
       "      <td>SYY/2006/page_71.pdf-1</td>\n",
       "      <td>[total debt total debt at july 1 , 2006 was $ ...</td>\n",
       "      <td>[2007 ****************************************...</td>\n",
       "      <td>[[, amount], [2007, $ 56499000], [2008, 468990...</td>\n",
       "      <td>what was the percentage change in total rental...</td>\n",
       "      <td>7%</td>\n",
       "      <td>7%</td>\n",
       "      <td>subtract(92710000, 86842000), divide(#0, 86842...</td>\n",
       "      <td>[total rental expense under operating leases w...</td>\n",
       "    </tr>\n",
       "    <tr>\n",
       "      <th>6</th>\n",
       "      <td>AES/2010/page_227.pdf-3</td>\n",
       "      <td>[the aes corporation notes to consolidated fin...</td>\n",
       "      <td>[recourse debt transactions during 2010 , the ...</td>\n",
       "      <td>[[december 31,, annual maturities ( in million...</td>\n",
       "      <td>what percent of total recourse debt is current?</td>\n",
       "      <td>10%</td>\n",
       "      <td>10%</td>\n",
       "      <td>divide(463, 4612)</td>\n",
       "      <td>[december 31 , the 2011 of annual maturities (...</td>\n",
       "    </tr>\n",
       "    <tr>\n",
       "      <th>7</th>\n",
       "      <td>GS/2015/page_188.pdf-2</td>\n",
       "      <td>[the goldman sachs group , inc ., and subsidia...</td>\n",
       "      <td>[rent charged to operating expense was $ 249 m...</td>\n",
       "      <td>[[$ in millions, as of december 2015], [2016, ...</td>\n",
       "      <td>what percentage of future minimum rental payme...</td>\n",
       "      <td>12%</td>\n",
       "      <td>12%</td>\n",
       "      <td>divide(301, 2575)</td>\n",
       "      <td>[$ in millions the 2018 of as of december 2015...</td>\n",
       "    </tr>\n",
       "    <tr>\n",
       "      <th>8</th>\n",
       "      <td>MO/2016/page_19.pdf-1</td>\n",
       "      <td>[2011 2012 2013 2014 2015 2016 comparison of f...</td>\n",
       "      <td>[altria altria group , inc ., group , inc ., p...</td>\n",
       "      <td>[[date, altria group inc ., altria group inc ....</td>\n",
       "      <td>did altria outperform the s&amp;p 500?</td>\n",
       "      <td>yes</td>\n",
       "      <td>yes</td>\n",
       "      <td>greater(286.61, 198.09)</td>\n",
       "      <td>[date the december 2016 of altria group inc . ...</td>\n",
       "    </tr>\n",
       "    <tr>\n",
       "      <th>9</th>\n",
       "      <td>CMCSA/2015/page_112.pdf-2</td>\n",
       "      <td>[comcast corporation changes in our net deferr...</td>\n",
       "      <td>[as of december 31 , 2015 and 2014 , our accru...</td>\n",
       "      <td>[[( in millions ), 2015, 2014, 2013], [balance...</td>\n",
       "      <td>what was the change in unrecognized tax benefi...</td>\n",
       "      <td>-35</td>\n",
       "      <td>-35</td>\n",
       "      <td>subtract(1136, 1171)</td>\n",
       "      <td>[( in millions ) the balance december 31 of 20...</td>\n",
       "    </tr>\n",
       "  </tbody>\n",
       "</table>\n",
       "</div>"
      ],
      "text/plain": [
       "                          id  \\\n",
       "0     ETR/2016/page_23.pdf-2   \n",
       "1    INTC/2015/page_41.pdf-4   \n",
       "2     ADI/2011/page_61.pdf-2   \n",
       "3     FIS/2010/page_70.pdf-2   \n",
       "4     MAS/2017/page_27.pdf-2   \n",
       "5     SYY/2006/page_71.pdf-1   \n",
       "6    AES/2010/page_227.pdf-3   \n",
       "7     GS/2015/page_188.pdf-2   \n",
       "8      MO/2016/page_19.pdf-1   \n",
       "9  CMCSA/2015/page_112.pdf-2   \n",
       "\n",
       "                                            pre_text  \\\n",
       "0  [entergy corporation and subsidiaries manageme...   \n",
       "1  [item 1b ., unresolved staff comments not appl...   \n",
       "2  [undesignated hedges was $ 41.2 million and $ ...   \n",
       "3  [chairman and a director of the board of fis a...   \n",
       "4  [performance graph the table below compares th...   \n",
       "5  [total debt total debt at july 1 , 2006 was $ ...   \n",
       "6  [the aes corporation notes to consolidated fin...   \n",
       "7  [the goldman sachs group , inc ., and subsidia...   \n",
       "8  [2011 2012 2013 2014 2015 2016 comparison of f...   \n",
       "9  [comcast corporation changes in our net deferr...   \n",
       "\n",
       "                                           post_text  \\\n",
       "0  [the retail electric price variance is primari...   \n",
       "1  [1 leases on portions of the land used for the...   \n",
       "2  [the amounts earned and owed under the swap ag...   \n",
       "3  [we recorded a preliminary allocation of the p...   \n",
       "4  [$ 50.00 $ 100.00 $ 150.00 $ 200.00 $ 250.00 $...   \n",
       "5  [2007 ****************************************...   \n",
       "6  [recourse debt transactions during 2010 , the ...   \n",
       "7  [rent charged to operating expense was $ 249 m...   \n",
       "8  [altria altria group , inc ., group , inc ., p...   \n",
       "9  [as of december 31 , 2015 and 2014 , our accru...   \n",
       "\n",
       "                                               table  \\\n",
       "0  [[, amount ( in millions )], [2014 net revenue...   \n",
       "1  [[( square feet in millions ), unitedstates, o...   \n",
       "2  [[statement of income classification, statemen...   \n",
       "3  [[value of metavante common stock, $ 4066.4], ...   \n",
       "4  [[, 2013, 2014, 2015, 2016, 2017], [masco, $ 1...   \n",
       "5  [[, amount], [2007, $ 56499000], [2008, 468990...   \n",
       "6  [[december 31,, annual maturities ( in million...   \n",
       "7  [[$ in millions, as of december 2015], [2016, ...   \n",
       "8  [[date, altria group inc ., altria group inc ....   \n",
       "9  [[( in millions ), 2015, 2014, 2013], [balance...   \n",
       "\n",
       "                                            question answer final_result  \\\n",
       "0  what is the net change in net revenue during 2...     94           94   \n",
       "1  what percentage of total facilities as measure...    14%          14%   \n",
       "2  what is the percentage change in cash flow hed...   9.9%         9.9%   \n",
       "3  what portion of total purchase price is relate...   2.9%         2.9%   \n",
       "4  what was the difference in percentage cumulati...             111.97%   \n",
       "5  what was the percentage change in total rental...     7%           7%   \n",
       "6    what percent of total recourse debt is current?    10%          10%   \n",
       "7  what percentage of future minimum rental payme...    12%          12%   \n",
       "8                 did altria outperform the s&p 500?    yes          yes   \n",
       "9  what was the change in unrecognized tax benefi...    -35          -35   \n",
       "\n",
       "                                          program_re  \\\n",
       "0                               subtract(5829, 5735)   \n",
       "1                                  divide(8.1, 56.0)   \n",
       "2          subtract(153.7, 139.9), divide(#0, 139.9)   \n",
       "3                              divide(121.4, 4187.8)   \n",
       "4  subtract(318.46, const_100), divide(#0, const_...   \n",
       "5  subtract(92710000, 86842000), divide(#0, 86842...   \n",
       "6                                  divide(463, 4612)   \n",
       "7                                  divide(301, 2575)   \n",
       "8                            greater(286.61, 198.09)   \n",
       "9                               subtract(1136, 1171)   \n",
       "\n",
       "                                           gold_inds  \n",
       "0  [the 2014 net revenue of amount ( in millions ...  \n",
       "1  [( square feet in millions ) the leased facili...  \n",
       "2  [the total notional amounts of derivative inst...  \n",
       "3  [value of metavante common stock the value of ...  \n",
       "4  [the masco of 2013 is $ 138.48 ; the masco of ...  \n",
       "5  [total rental expense under operating leases w...  \n",
       "6  [december 31 , the 2011 of annual maturities (...  \n",
       "7  [$ in millions the 2018 of as of december 2015...  \n",
       "8  [date the december 2016 of altria group inc . ...  \n",
       "9  [( in millions ) the balance december 31 of 20...  "
      ]
     },
     "execution_count": 82,
     "metadata": {},
     "output_type": "execute_result"
    }
   ],
   "source": [
    "finqa.head(10)"
   ]
  },
  {
   "cell_type": "markdown",
   "metadata": {},
   "source": [
    "### LLM vs MLLM"
   ]
  },
  {
   "cell_type": "code",
   "execution_count": 137,
   "metadata": {},
   "outputs": [],
   "source": [
    "wikitq_text1_df = pd.read_csv('../results/wikitq_text_0_999.csv', index_col=0)\n",
    "wikitq_text2_df = pd.read_csv('../results/wikitq_text_0_999_2.csv', index_col=0)\n",
    "wikitq_text3_df = pd.read_csv('../results/wikitq_text_0_999_3.csv', index_col=0)\n",
    "wikitq_text4_df = pd.read_csv('../results/wikitq_text_0_999_4.csv', index_col=0)\n",
    "wikitq_text5_df = pd.read_csv('../results/wikitq_text_0_999_5.csv', index_col=0)\n",
    "\n",
    "wikitq_image1_df = pd.read_csv('../results/wikitq_image_0_999.csv', index_col=0)\n",
    "wikitq_image2_df = pd.read_csv('../results/wikitq_image_0_999_2.csv', index_col=0)\n",
    "wikitq_image3_df = pd.read_csv('../results/wikitq_image_0_999_3.csv', index_col=0)\n",
    "wikitq_image4_df = pd.read_csv('../results/wikitq_image_0_999_4.csv', index_col=0)\n",
    "wikitq_image5_df = pd.read_csv('../results/wikitq_image_0_999_5.csv', index_col=0)\n",
    "\n",
    "wikitq_image1_c1r1_df = pd.read_csv('../results/wikitq_image_c1_r1_0_999.csv', index_col=0)\n",
    "wikitq_image2_c1r1_df = pd.read_csv('../results/wikitq_image_c1_r1_0_999_2.csv', index_col=0)\n",
    "wikitq_image3_c1r1_df = pd.read_csv('../results/wikitq_image_c1_r1_0_999_3.csv', index_col=0)\n",
    "wikitq_image4_c1r1_df = pd.read_csv('../results/wikitq_image_c1_r1_0_999_4.csv', index_col=0)\n",
    "wikitq_image5_c1r1_df = pd.read_csv('../results/wikitq_image_c1_r1_0_999_5.csv', index_col=0)"
   ]
  },
  {
   "cell_type": "code",
   "execution_count": 300,
   "metadata": {},
   "outputs": [],
   "source": [
    "wikitq_test = load_dataset('stanford/wikitablequestions', split='test', trust_remote_code=True).to_pandas()"
   ]
  },
  {
   "cell_type": "code",
   "execution_count": 306,
   "metadata": {},
   "outputs": [],
   "source": [
    "wikitq_train_text1_df = pd.read_csv('../results/wikitq_train_text_0_2999.csv', index_col=0)\n",
    "wikitq_train_text2_df = pd.read_csv('../results/wikitq_train_text_3000_5999.csv', index_col=0)\n",
    "wikitq_train_text3_df = pd.read_csv('../results/wikitq_train_text_6000_8999.csv', index_col=0)\n",
    "wikitq_train_text4_df = pd.read_csv('../results/wikitq_train_text_9000_11320.csv', index_col=0)\n",
    "\n",
    "wikitq_train_image1_df = pd.read_csv('../results/wikitq_train_image_0_2999.csv', index_col=0)\n",
    "wikitq_train_image2_df = pd.read_csv('../results/wikitq_train_image_3000_5999.csv', index_col=0)\n",
    "wikitq_train_image3_df = pd.read_csv('../results/wikitq_train_image_6000_8999.csv', index_col=0)\n",
    "wikitq_train_image4_df = pd.read_csv('../results/wikitq_train_image_9000_11320.csv', index_col=0)"
   ]
  },
  {
   "cell_type": "code",
   "execution_count": 298,
   "metadata": {},
   "outputs": [],
   "source": [
    "wikitq_train = load_dataset('stanford/wikitablequestions', split='train', trust_remote_code=True).to_pandas()"
   ]
  },
  {
   "cell_type": "code",
   "execution_count": 361,
   "metadata": {},
   "outputs": [],
   "source": [
    "# average 5 df's scores\n",
    "wikitq_test = wikitq_test.iloc[:1000]\n",
    "\n",
    "wikitq_test['text_score'] = (wikitq_text1_df.score + wikitq_text2_df.score + wikitq_text3_df.score + wikitq_text4_df.score + wikitq_text5_df.score) / 5\n",
    "wikitq_test['image_score'] = (wikitq_image1_df.score + wikitq_image2_df.score + wikitq_image3_df.score + wikitq_image4_df.score + wikitq_image5_df.score) / 5\n",
    "wikitq_test['image_c1r1_score'] = (wikitq_image1_c1r1_df.score + wikitq_image2_c1r1_df.score + wikitq_image3_c1r1_df.score + wikitq_image4_c1r1_df.score + wikitq_image5_c1r1_df.score) / 5\n",
    "\n",
    "wikitq_test['text_pred'] = wikitq_text1_df.prediction\n",
    "wikitq_test['image_pred'] = wikitq_image1_df.prediction"
   ]
  },
  {
   "cell_type": "code",
   "execution_count": 307,
   "metadata": {},
   "outputs": [],
   "source": [
    "# stack train df's\n",
    "wikitq_train_text_df = pd.concat([wikitq_train_text1_df, wikitq_train_text2_df, wikitq_train_text3_df, wikitq_train_text4_df])\n",
    "wikitq_train_image_df = pd.concat([wikitq_train_image1_df, wikitq_train_image2_df, wikitq_train_image3_df, wikitq_train_image4_df])\n",
    "\n",
    "# concat with tikitq_train\n",
    "wikitq_train['text_score'] = wikitq_train_text_df.score\n",
    "wikitq_train['text_pred'] = wikitq_train_text_df.prediction\n",
    "wikitq_train['image_score'] = wikitq_train_image_df.score\n",
    "wikitq_train['image_pred'] = wikitq_train_image_df.prediction"
   ]
  },
  {
   "cell_type": "code",
   "execution_count": 362,
   "metadata": {},
   "outputs": [
    {
     "data": {
      "text/plain": [
       "np.int64(747)"
      ]
     },
     "execution_count": 362,
     "metadata": {},
     "output_type": "execute_result"
    }
   ],
   "source": [
    "wikitq_train['diff'] = wikitq_train['text_score'] - wikitq_train['image_score']\n",
    "wikitq_test['diff'] = wikitq_test['text_score'] - wikitq_test['image_score']\n",
    "# wikitq_train['diff'].apply(lambda x: x if x>0 else 0).sum() # train -> 2154 / 11321, test -> 190.8 / 1000\n",
    "wikitq_train['diff'].apply(lambda x: -x if x<0 else 0).sum() # train -> 747 / 11321, test -> 65.6 / 1000\n",
    "\n",
    "# wikitq['diff_c1r1'] = wikitq['text_score'] - wikitq['image_c1r1_score']\n",
    "# wikitq['diff_c1r1'].apply(lambda x: x if x>0 else 0).sum() # 176.6 / 1000\n",
    "# wikitq['diff_c1r1'].apply(lambda x: -x if x<0 else 0).sum() # 75.2 / 1000\n",
    "\n",
    "# wikitq['diff_image'] = wikitq['image_c1r1_score'] - wikitq['image_score']\n",
    "# wikitq['diff_image'].apply(lambda x: x if x>0 else 0).sum() # 73.0 / 1000\n",
    "# wikitq['diff_image'].apply(lambda x: -x if x<0 else 0).sum() # 49.2 / 1000"
   ]
  },
  {
   "cell_type": "code",
   "execution_count": 363,
   "metadata": {},
   "outputs": [],
   "source": [
    "wikitq_train['max_score'] = wikitq_train[['text_score','image_score']].max(axis=1) \n",
    "wikitq_test['max_score'] = wikitq_test[['text_score','image_score']].max(axis=1)\n",
    "# wikitq['max_score'] = wikitq[['text_score','image_c1r1_score']].max(axis=1) # 679.4 / 1000\n",
    "# wikitq_train['max_score'].sum() # train -> 7517 / 11321, 669.8 / 1000\n",
    "\n",
    "# wikitq_train.text_score.sum() # train -> 6770 / 11321, test -> 604.2 / 1000\n",
    "# wikitq_train.image_score.sum() # train -> 5363 / 11321, test -> 479.0 / 1000\n",
    "# wikitq_train.image_c1r1_score.sum() # 502.8 / 1000"
   ]
  },
  {
   "cell_type": "code",
   "execution_count": 364,
   "metadata": {},
   "outputs": [
    {
     "data": {
      "text/plain": [
       "<Axes: ylabel='Frequency'>"
      ]
     },
     "execution_count": 364,
     "metadata": {},
     "output_type": "execute_result"
    },
    {
     "data": {
      "image/png": "[encoded data removed]",
      "text/plain": [
       "<Figure size 640x480 with 1 Axes>"
      ]
     },
     "metadata": {},
     "output_type": "display_data"
    }
   ],
   "source": [
    "wikitq_train['diff'].plot.hist(bins=100)"
   ]
  },
  {
   "cell_type": "code",
   "execution_count": null,
   "metadata": {},
   "outputs": [
    {
     "name": "stderr",
     "output_type": "stream",
     "text": [
      "/tmp/ipykernel_3514/2504200566.py:12: SettingWithCopyWarning: \n",
      "A value is trying to be set on a copy of a slice from a DataFrame.\n",
      "Try using .loc[row_indexer,col_indexer] = value instead\n",
      "\n",
      "See the caveats in the documentation: https://pandas.pydata.org/pandas-docs/stable/user_guide/indexing.html#returning-a-view-versus-a-copy\n",
      "  wikitq_train_['question_length'] = wikitq_train_.question.apply(lambda x: len(x.split()))\n",
      "/tmp/ipykernel_3514/2504200566.py:13: SettingWithCopyWarning: \n",
      "A value is trying to be set on a copy of a slice from a DataFrame.\n",
      "Try using .loc[row_indexer,col_indexer] = value instead\n",
      "\n",
      "See the caveats in the documentation: https://pandas.pydata.org/pandas-docs/stable/user_guide/indexing.html#returning-a-view-versus-a-copy\n",
      "  wikitq_test_['question_length'] = wikitq_test_.question.apply(lambda x: len(x.split()))\n",
      "/tmp/ipykernel_3514/2504200566.py:16: SettingWithCopyWarning: \n",
      "A value is trying to be set on a copy of a slice from a DataFrame.\n",
      "Try using .loc[row_indexer,col_indexer] = value instead\n",
      "\n",
      "See the caveats in the documentation: https://pandas.pydata.org/pandas-docs/stable/user_guide/indexing.html#returning-a-view-versus-a-copy\n",
      "  wikitq_train_['table_num_rows'] = wikitq_train_.table.apply(lambda x: len(x['rows']))\n",
      "/tmp/ipykernel_3514/2504200566.py:17: SettingWithCopyWarning: \n",
      "A value is trying to be set on a copy of a slice from a DataFrame.\n",
      "Try using .loc[row_indexer,col_indexer] = value instead\n",
      "\n",
      "See the caveats in the documentation: https://pandas.pydata.org/pandas-docs/stable/user_guide/indexing.html#returning-a-view-versus-a-copy\n",
      "  wikitq_train_['table_num_cols'] = wikitq_train_.table.apply(lambda x: len(x['header']))\n",
      "/tmp/ipykernel_3514/2504200566.py:19: SettingWithCopyWarning: \n",
      "A value is trying to be set on a copy of a slice from a DataFrame.\n",
      "Try using .loc[row_indexer,col_indexer] = value instead\n",
      "\n",
      "See the caveats in the documentation: https://pandas.pydata.org/pandas-docs/stable/user_guide/indexing.html#returning-a-view-versus-a-copy\n",
      "  wikitq_test_['table_num_rows'] = wikitq_test_.table.apply(lambda x: len(x['rows']))\n",
      "/tmp/ipykernel_3514/2504200566.py:20: SettingWithCopyWarning: \n",
      "A value is trying to be set on a copy of a slice from a DataFrame.\n",
      "Try using .loc[row_indexer,col_indexer] = value instead\n",
      "\n",
      "See the caveats in the documentation: https://pandas.pydata.org/pandas-docs/stable/user_guide/indexing.html#returning-a-view-versus-a-copy\n",
      "  wikitq_test_['table_num_cols'] = wikitq_test_.table.apply(lambda x: len(x['header']))\n"
     ]
    },
    {
     "ename": "AttributeError",
     "evalue": "'float' object has no attribute 'split'",
     "output_type": "error",
     "traceback": [
      "\u001b[0;31m---------------------------------------------------------------------------\u001b[0m",
      "\u001b[0;31mAttributeError\u001b[0m                            Traceback (most recent call last)",
      "Cell \u001b[0;32mIn[365], line 23\u001b[0m\n\u001b[1;32m     20\u001b[0m wikitq_test_[\u001b[38;5;124m'\u001b[39m\u001b[38;5;124mtable_num_cols\u001b[39m\u001b[38;5;124m'\u001b[39m] \u001b[38;5;241m=\u001b[39m wikitq_test_\u001b[38;5;241m.\u001b[39mtable\u001b[38;5;241m.\u001b[39mapply(\u001b[38;5;28;01mlambda\u001b[39;00m x: \u001b[38;5;28mlen\u001b[39m(x[\u001b[38;5;124m'\u001b[39m\u001b[38;5;124mheader\u001b[39m\u001b[38;5;124m'\u001b[39m]))\n\u001b[1;32m     22\u001b[0m \u001b[38;5;66;03m# TODO: answer characteristics\u001b[39;00m\n\u001b[0;32m---> 23\u001b[0m wikitq_train_[\u001b[38;5;124m'\u001b[39m\u001b[38;5;124mimage_pred_length\u001b[39m\u001b[38;5;124m'\u001b[39m] \u001b[38;5;241m=\u001b[39m \u001b[43mwikitq_train_\u001b[49m\u001b[38;5;241;43m.\u001b[39;49m\u001b[43mimage_pred\u001b[49m\u001b[38;5;241;43m.\u001b[39;49m\u001b[43mapply\u001b[49m\u001b[43m(\u001b[49m\u001b[38;5;28;43;01mlambda\u001b[39;49;00m\u001b[43m \u001b[49m\u001b[43mx\u001b[49m\u001b[43m:\u001b[49m\u001b[43m \u001b[49m\u001b[38;5;28;43mlen\u001b[39;49m\u001b[43m(\u001b[49m\u001b[43mx\u001b[49m\u001b[38;5;241;43m.\u001b[39;49m\u001b[43msplit\u001b[49m\u001b[43m(\u001b[49m\u001b[43m)\u001b[49m\u001b[43m)\u001b[49m\u001b[43m)\u001b[49m\n\u001b[1;32m     24\u001b[0m wikitq_train_[\u001b[38;5;124m'\u001b[39m\u001b[38;5;124mtext_pred_length\u001b[39m\u001b[38;5;124m'\u001b[39m] \u001b[38;5;241m=\u001b[39m wikitq_train_\u001b[38;5;241m.\u001b[39mtext_pred\u001b[38;5;241m.\u001b[39mapply(\u001b[38;5;28;01mlambda\u001b[39;00m x: \u001b[38;5;28mlen\u001b[39m(x\u001b[38;5;241m.\u001b[39msplit()))\n\u001b[1;32m     26\u001b[0m wikitq_test_[\u001b[38;5;124m'\u001b[39m\u001b[38;5;124mimage_pred_length\u001b[39m\u001b[38;5;124m'\u001b[39m] \u001b[38;5;241m=\u001b[39m wikitq_test_\u001b[38;5;241m.\u001b[39mimage_pred\u001b[38;5;241m.\u001b[39mapply(\u001b[38;5;28;01mlambda\u001b[39;00m x: \u001b[38;5;28mlen\u001b[39m(x\u001b[38;5;241m.\u001b[39msplit()))\n",
      "File \u001b[0;32m~/anaconda3/lib/python3.10/site-packages/pandas/core/series.py:4924\u001b[0m, in \u001b[0;36mSeries.apply\u001b[0;34m(self, func, convert_dtype, args, by_row, **kwargs)\u001b[0m\n\u001b[1;32m   4789\u001b[0m \u001b[38;5;28;01mdef\u001b[39;00m \u001b[38;5;21mapply\u001b[39m(\n\u001b[1;32m   4790\u001b[0m     \u001b[38;5;28mself\u001b[39m,\n\u001b[1;32m   4791\u001b[0m     func: AggFuncType,\n\u001b[0;32m   (...)\u001b[0m\n\u001b[1;32m   4796\u001b[0m     \u001b[38;5;241m*\u001b[39m\u001b[38;5;241m*\u001b[39mkwargs,\n\u001b[1;32m   4797\u001b[0m ) \u001b[38;5;241m-\u001b[39m\u001b[38;5;241m>\u001b[39m DataFrame \u001b[38;5;241m|\u001b[39m Series:\n\u001b[1;32m   4798\u001b[0m \u001b[38;5;250m    \u001b[39m\u001b[38;5;124;03m\"\"\"\u001b[39;00m\n\u001b[1;32m   4799\u001b[0m \u001b[38;5;124;03m    Invoke function on values of Series.\u001b[39;00m\n\u001b[1;32m   4800\u001b[0m \n\u001b[0;32m   (...)\u001b[0m\n\u001b[1;32m   4915\u001b[0m \u001b[38;5;124;03m    dtype: float64\u001b[39;00m\n\u001b[1;32m   4916\u001b[0m \u001b[38;5;124;03m    \"\"\"\u001b[39;00m\n\u001b[1;32m   4917\u001b[0m     \u001b[38;5;28;01mreturn\u001b[39;00m \u001b[43mSeriesApply\u001b[49m\u001b[43m(\u001b[49m\n\u001b[1;32m   4918\u001b[0m \u001b[43m        \u001b[49m\u001b[38;5;28;43mself\u001b[39;49m\u001b[43m,\u001b[49m\n\u001b[1;32m   4919\u001b[0m \u001b[43m        \u001b[49m\u001b[43mfunc\u001b[49m\u001b[43m,\u001b[49m\n\u001b[1;32m   4920\u001b[0m \u001b[43m        \u001b[49m\u001b[43mconvert_dtype\u001b[49m\u001b[38;5;241;43m=\u001b[39;49m\u001b[43mconvert_dtype\u001b[49m\u001b[43m,\u001b[49m\n\u001b[1;32m   4921\u001b[0m \u001b[43m        \u001b[49m\u001b[43mby_row\u001b[49m\u001b[38;5;241;43m=\u001b[39;49m\u001b[43mby_row\u001b[49m\u001b[43m,\u001b[49m\n\u001b[1;32m   4922\u001b[0m \u001b[43m        \u001b[49m\u001b[43margs\u001b[49m\u001b[38;5;241;43m=\u001b[39;49m\u001b[43margs\u001b[49m\u001b[43m,\u001b[49m\n\u001b[1;32m   4923\u001b[0m \u001b[43m        \u001b[49m\u001b[43mkwargs\u001b[49m\u001b[38;5;241;43m=\u001b[39;49m\u001b[43mkwargs\u001b[49m\u001b[43m,\u001b[49m\n\u001b[0;32m-> 4924\u001b[0m \u001b[43m    \u001b[49m\u001b[43m)\u001b[49m\u001b[38;5;241;43m.\u001b[39;49m\u001b[43mapply\u001b[49m\u001b[43m(\u001b[49m\u001b[43m)\u001b[49m\n",
      "File \u001b[0;32m~/anaconda3/lib/python3.10/site-packages/pandas/core/apply.py:1427\u001b[0m, in \u001b[0;36mSeriesApply.apply\u001b[0;34m(self)\u001b[0m\n\u001b[1;32m   1424\u001b[0m     \u001b[38;5;28;01mreturn\u001b[39;00m \u001b[38;5;28mself\u001b[39m\u001b[38;5;241m.\u001b[39mapply_compat()\n\u001b[1;32m   1426\u001b[0m \u001b[38;5;66;03m# self.func is Callable\u001b[39;00m\n\u001b[0;32m-> 1427\u001b[0m \u001b[38;5;28;01mreturn\u001b[39;00m \u001b[38;5;28;43mself\u001b[39;49m\u001b[38;5;241;43m.\u001b[39;49m\u001b[43mapply_standard\u001b[49m\u001b[43m(\u001b[49m\u001b[43m)\u001b[49m\n",
      "File \u001b[0;32m~/anaconda3/lib/python3.10/site-packages/pandas/core/apply.py:1507\u001b[0m, in \u001b[0;36mSeriesApply.apply_standard\u001b[0;34m(self)\u001b[0m\n\u001b[1;32m   1501\u001b[0m \u001b[38;5;66;03m# row-wise access\u001b[39;00m\n\u001b[1;32m   1502\u001b[0m \u001b[38;5;66;03m# apply doesn't have a `na_action` keyword and for backward compat reasons\u001b[39;00m\n\u001b[1;32m   1503\u001b[0m \u001b[38;5;66;03m# we need to give `na_action=\"ignore\"` for categorical data.\u001b[39;00m\n\u001b[1;32m   1504\u001b[0m \u001b[38;5;66;03m# TODO: remove the `na_action=\"ignore\"` when that default has been changed in\u001b[39;00m\n\u001b[1;32m   1505\u001b[0m \u001b[38;5;66;03m#  Categorical (GH51645).\u001b[39;00m\n\u001b[1;32m   1506\u001b[0m action \u001b[38;5;241m=\u001b[39m \u001b[38;5;124m\"\u001b[39m\u001b[38;5;124mignore\u001b[39m\u001b[38;5;124m\"\u001b[39m \u001b[38;5;28;01mif\u001b[39;00m \u001b[38;5;28misinstance\u001b[39m(obj\u001b[38;5;241m.\u001b[39mdtype, CategoricalDtype) \u001b[38;5;28;01melse\u001b[39;00m \u001b[38;5;28;01mNone\u001b[39;00m\n\u001b[0;32m-> 1507\u001b[0m mapped \u001b[38;5;241m=\u001b[39m \u001b[43mobj\u001b[49m\u001b[38;5;241;43m.\u001b[39;49m\u001b[43m_map_values\u001b[49m\u001b[43m(\u001b[49m\n\u001b[1;32m   1508\u001b[0m \u001b[43m    \u001b[49m\u001b[43mmapper\u001b[49m\u001b[38;5;241;43m=\u001b[39;49m\u001b[43mcurried\u001b[49m\u001b[43m,\u001b[49m\u001b[43m \u001b[49m\u001b[43mna_action\u001b[49m\u001b[38;5;241;43m=\u001b[39;49m\u001b[43maction\u001b[49m\u001b[43m,\u001b[49m\u001b[43m \u001b[49m\u001b[43mconvert\u001b[49m\u001b[38;5;241;43m=\u001b[39;49m\u001b[38;5;28;43mself\u001b[39;49m\u001b[38;5;241;43m.\u001b[39;49m\u001b[43mconvert_dtype\u001b[49m\n\u001b[1;32m   1509\u001b[0m \u001b[43m\u001b[49m\u001b[43m)\u001b[49m\n\u001b[1;32m   1511\u001b[0m \u001b[38;5;28;01mif\u001b[39;00m \u001b[38;5;28mlen\u001b[39m(mapped) \u001b[38;5;129;01mand\u001b[39;00m \u001b[38;5;28misinstance\u001b[39m(mapped[\u001b[38;5;241m0\u001b[39m], ABCSeries):\n\u001b[1;32m   1512\u001b[0m     \u001b[38;5;66;03m# GH#43986 Need to do list(mapped) in order to get treated as nested\u001b[39;00m\n\u001b[1;32m   1513\u001b[0m     \u001b[38;5;66;03m#  See also GH#25959 regarding EA support\u001b[39;00m\n\u001b[1;32m   1514\u001b[0m     \u001b[38;5;28;01mreturn\u001b[39;00m obj\u001b[38;5;241m.\u001b[39m_constructor_expanddim(\u001b[38;5;28mlist\u001b[39m(mapped), index\u001b[38;5;241m=\u001b[39mobj\u001b[38;5;241m.\u001b[39mindex)\n",
      "File \u001b[0;32m~/anaconda3/lib/python3.10/site-packages/pandas/core/base.py:921\u001b[0m, in \u001b[0;36mIndexOpsMixin._map_values\u001b[0;34m(self, mapper, na_action, convert)\u001b[0m\n\u001b[1;32m    918\u001b[0m \u001b[38;5;28;01mif\u001b[39;00m \u001b[38;5;28misinstance\u001b[39m(arr, ExtensionArray):\n\u001b[1;32m    919\u001b[0m     \u001b[38;5;28;01mreturn\u001b[39;00m arr\u001b[38;5;241m.\u001b[39mmap(mapper, na_action\u001b[38;5;241m=\u001b[39mna_action)\n\u001b[0;32m--> 921\u001b[0m \u001b[38;5;28;01mreturn\u001b[39;00m \u001b[43malgorithms\u001b[49m\u001b[38;5;241;43m.\u001b[39;49m\u001b[43mmap_array\u001b[49m\u001b[43m(\u001b[49m\u001b[43marr\u001b[49m\u001b[43m,\u001b[49m\u001b[43m \u001b[49m\u001b[43mmapper\u001b[49m\u001b[43m,\u001b[49m\u001b[43m \u001b[49m\u001b[43mna_action\u001b[49m\u001b[38;5;241;43m=\u001b[39;49m\u001b[43mna_action\u001b[49m\u001b[43m,\u001b[49m\u001b[43m \u001b[49m\u001b[43mconvert\u001b[49m\u001b[38;5;241;43m=\u001b[39;49m\u001b[43mconvert\u001b[49m\u001b[43m)\u001b[49m\n",
      "File \u001b[0;32m~/anaconda3/lib/python3.10/site-packages/pandas/core/algorithms.py:1743\u001b[0m, in \u001b[0;36mmap_array\u001b[0;34m(arr, mapper, na_action, convert)\u001b[0m\n\u001b[1;32m   1741\u001b[0m values \u001b[38;5;241m=\u001b[39m arr\u001b[38;5;241m.\u001b[39mastype(\u001b[38;5;28mobject\u001b[39m, copy\u001b[38;5;241m=\u001b[39m\u001b[38;5;28;01mFalse\u001b[39;00m)\n\u001b[1;32m   1742\u001b[0m \u001b[38;5;28;01mif\u001b[39;00m na_action \u001b[38;5;129;01mis\u001b[39;00m \u001b[38;5;28;01mNone\u001b[39;00m:\n\u001b[0;32m-> 1743\u001b[0m     \u001b[38;5;28;01mreturn\u001b[39;00m \u001b[43mlib\u001b[49m\u001b[38;5;241;43m.\u001b[39;49m\u001b[43mmap_infer\u001b[49m\u001b[43m(\u001b[49m\u001b[43mvalues\u001b[49m\u001b[43m,\u001b[49m\u001b[43m \u001b[49m\u001b[43mmapper\u001b[49m\u001b[43m,\u001b[49m\u001b[43m \u001b[49m\u001b[43mconvert\u001b[49m\u001b[38;5;241;43m=\u001b[39;49m\u001b[43mconvert\u001b[49m\u001b[43m)\u001b[49m\n\u001b[1;32m   1744\u001b[0m \u001b[38;5;28;01melse\u001b[39;00m:\n\u001b[1;32m   1745\u001b[0m     \u001b[38;5;28;01mreturn\u001b[39;00m lib\u001b[38;5;241m.\u001b[39mmap_infer_mask(\n\u001b[1;32m   1746\u001b[0m         values, mapper, mask\u001b[38;5;241m=\u001b[39misna(values)\u001b[38;5;241m.\u001b[39mview(np\u001b[38;5;241m.\u001b[39muint8), convert\u001b[38;5;241m=\u001b[39mconvert\n\u001b[1;32m   1747\u001b[0m     )\n",
      "File \u001b[0;32mlib.pyx:2972\u001b[0m, in \u001b[0;36mpandas._libs.lib.map_infer\u001b[0;34m()\u001b[0m\n",
      "Cell \u001b[0;32mIn[365], line 23\u001b[0m, in \u001b[0;36m<lambda>\u001b[0;34m(x)\u001b[0m\n\u001b[1;32m     20\u001b[0m wikitq_test_[\u001b[38;5;124m'\u001b[39m\u001b[38;5;124mtable_num_cols\u001b[39m\u001b[38;5;124m'\u001b[39m] \u001b[38;5;241m=\u001b[39m wikitq_test_\u001b[38;5;241m.\u001b[39mtable\u001b[38;5;241m.\u001b[39mapply(\u001b[38;5;28;01mlambda\u001b[39;00m x: \u001b[38;5;28mlen\u001b[39m(x[\u001b[38;5;124m'\u001b[39m\u001b[38;5;124mheader\u001b[39m\u001b[38;5;124m'\u001b[39m]))\n\u001b[1;32m     22\u001b[0m \u001b[38;5;66;03m# TODO: answer characteristics\u001b[39;00m\n\u001b[0;32m---> 23\u001b[0m wikitq_train_[\u001b[38;5;124m'\u001b[39m\u001b[38;5;124mimage_pred_length\u001b[39m\u001b[38;5;124m'\u001b[39m] \u001b[38;5;241m=\u001b[39m wikitq_train_\u001b[38;5;241m.\u001b[39mimage_pred\u001b[38;5;241m.\u001b[39mapply(\u001b[38;5;28;01mlambda\u001b[39;00m x: \u001b[38;5;28mlen\u001b[39m(\u001b[43mx\u001b[49m\u001b[38;5;241;43m.\u001b[39;49m\u001b[43msplit\u001b[49m()))\n\u001b[1;32m     24\u001b[0m wikitq_train_[\u001b[38;5;124m'\u001b[39m\u001b[38;5;124mtext_pred_length\u001b[39m\u001b[38;5;124m'\u001b[39m] \u001b[38;5;241m=\u001b[39m wikitq_train_\u001b[38;5;241m.\u001b[39mtext_pred\u001b[38;5;241m.\u001b[39mapply(\u001b[38;5;28;01mlambda\u001b[39;00m x: \u001b[38;5;28mlen\u001b[39m(x\u001b[38;5;241m.\u001b[39msplit()))\n\u001b[1;32m     26\u001b[0m wikitq_test_[\u001b[38;5;124m'\u001b[39m\u001b[38;5;124mimage_pred_length\u001b[39m\u001b[38;5;124m'\u001b[39m] \u001b[38;5;241m=\u001b[39m wikitq_test_\u001b[38;5;241m.\u001b[39mimage_pred\u001b[38;5;241m.\u001b[39mapply(\u001b[38;5;28;01mlambda\u001b[39;00m x: \u001b[38;5;28mlen\u001b[39m(x\u001b[38;5;241m.\u001b[39msplit()))\n",
      "\u001b[0;31mAttributeError\u001b[0m: 'float' object has no attribute 'split'"
     ]
    }
   ],
   "source": [
    "# predict which score would be higher (text vs image)\n",
    "from sklearn import preprocessing\n",
    "from sklearn.ensemble import RandomForestClassifier\n",
    "from sklearn.model_selection import train_test_split\n",
    "from sklearn.metrics import accuracy_score\n",
    "\n",
    "# remove rows with diff == 0\n",
    "wikitq_train_ = wikitq_train[wikitq_train['diff'] != 0]\n",
    "wikitq_test_ = wikitq_test[wikitq_test['diff'] != 0]\n",
    "\n",
    "# question characteristics\n",
    "wikitq_train_['question_length'] = wikitq_train_.question.apply(lambda x: len(x.split()))\n",
    "wikitq_test_['question_length'] = wikitq_test_.question.apply(lambda x: len(x.split()))\n",
    "\n",
    "# table characteristics\n",
    "wikitq_train_['table_num_rows'] = wikitq_train_.table.apply(lambda x: len(x['rows']))\n",
    "wikitq_train_['table_num_cols'] = wikitq_train_.table.apply(lambda x: len(x['header']))\n",
    "\n",
    "wikitq_test_['table_num_rows'] = wikitq_test_.table.apply(lambda x: len(x['rows']))\n",
    "wikitq_test_['table_num_cols'] = wikitq_test_.table.apply(lambda x: len(x['header']))\n",
    "\n",
    "# TODO: answer characteristics\n",
    "wikitq_train_['image_pred_length'] = wikitq_train_.image_pred.apply(lambda x: len(str(x).split()))\n",
    "wikitq_train_['text_pred_length'] = wikitq_train_.text_pred.apply(lambda x: len(str(x).split()))\n",
    "\n",
    "wikitq_test_['image_pred_length'] = wikitq_test_.image_pred.apply(lambda x: len(str(x).split()))\n",
    "wikitq_test_['text_pred_length'] = wikitq_test_.text_pred.apply(lambda x: len(str(x).split()))\n",
    "\n",
    "# label: 1 if text_score >= image_score, 0 otherwise\n",
    "wikitq_train_['label'] = wikitq_train_['diff'].apply(lambda x: 1 if x>=0 else 0)\n",
    "\n",
    "# features\n",
    "X = wikitq_train_[['question_length','table_num_rows','table_num_cols']].values\n",
    "y = wikitq_train_['label'].values\n",
    "\n",
    "X_train, X_test, y_train, y_test = train_test_split(X, y, test_size=0.2, random_state=42)\n",
    "\n",
    "scaler = preprocessing.StandardScaler().fit(X_train)\n",
    "X_train = scaler.transform(X_train)\n",
    "X_test = scaler.transform(X_test)"
   ]
  },
  {
   "cell_type": "code",
   "execution_count": 360,
   "metadata": {},
   "outputs": [
    {
     "data": {
      "text/plain": [
       "0.8771551724137931"
      ]
     },
     "execution_count": 360,
     "metadata": {},
     "output_type": "execute_result"
    }
   ],
   "source": [
    "# random forest classifier\n",
    "clf = RandomForestClassifier(random_state=42)\n",
    "\n",
    "clf.fit(X_train, y_train)\n",
    "\n",
    "y_pred = clf.predict(X_test)\n",
    "accuracy_score(y_test, y_pred) \n",
    "\n",
    "y_pred = clf.predict(X_train)\n",
    "accuracy_score(y_train, y_pred) \n",
    "\n",
    "# 0.660929\n",
    "\n",
    "# another metric\n",
    "# from sklearn.metrics import confusion_matrix\n",
    "# confusion_matrix(y_test, y_pred)"
   ]
  },
  {
   "cell_type": "code",
   "execution_count": 359,
   "metadata": {},
   "outputs": [
    {
     "data": {
      "text/plain": [
       "0.8125"
      ]
     },
     "execution_count": 359,
     "metadata": {},
     "output_type": "execute_result"
    }
   ],
   "source": [
    "# XGBoost\n",
    "from xgboost import XGBClassifier\n",
    "xgb = XGBClassifier(random_state=42, )\n",
    "xgb.fit(X_train, y_train)\n",
    "y_pred = xgb.predict(X_train)\n",
    "accuracy_score(y_train, y_pred)\n"
   ]
  },
  {
   "cell_type": "code",
   "execution_count": 358,
   "metadata": {},
   "outputs": [
    {
     "data": {
      "text/plain": [
       "0.7487068965517242"
      ]
     },
     "execution_count": 358,
     "metadata": {},
     "output_type": "execute_result"
    }
   ],
   "source": [
    "# logistic regression\n",
    "from sklearn.linear_model import LogisticRegression\n",
    "lr = LogisticRegression(random_state=42)\n",
    "lr.fit(X_train, y_train)\n",
    "y_pred = lr.predict(X_train)\n",
    "accuracy_score(y_train, y_pred)\n"
   ]
  },
  {
   "cell_type": "code",
   "execution_count": 349,
   "metadata": {},
   "outputs": [
    {
     "data": {
      "text/plain": [
       "np.int64(322)"
      ]
     },
     "execution_count": 349,
     "metadata": {},
     "output_type": "execute_result"
    }
   ],
   "source": [
    "wikitq_test_.predicted_label.sum()"
   ]
  },
  {
   "cell_type": "code",
   "execution_count": 351,
   "metadata": {},
   "outputs": [],
   "source": [
    "X_test_ = wikitq_test_[['question_length','table_num_rows','table_num_cols']].values\n",
    "X_test_ = scaler.transform(X_test_)"
   ]
  },
  {
   "cell_type": "code",
   "execution_count": 354,
   "metadata": {},
   "outputs": [
    {
     "name": "stderr",
     "output_type": "stream",
     "text": [
      "/tmp/ipykernel_3514/2201871545.py:3: SettingWithCopyWarning: \n",
      "A value is trying to be set on a copy of a slice from a DataFrame.\n",
      "Try using .loc[row_indexer,col_indexer] = value instead\n",
      "\n",
      "See the caveats in the documentation: https://pandas.pydata.org/pandas-docs/stable/user_guide/indexing.html#returning-a-view-versus-a-copy\n",
      "  wikitq_test_['predicted_label'] = 0.0\n",
      "/tmp/ipykernel_3514/2201871545.py:4: SettingWithCopyWarning: \n",
      "A value is trying to be set on a copy of a slice from a DataFrame.\n",
      "Try using .loc[row_indexer,col_indexer] = value instead\n",
      "\n",
      "See the caveats in the documentation: https://pandas.pydata.org/pandas-docs/stable/user_guide/indexing.html#returning-a-view-versus-a-copy\n",
      "  wikitq_test_['predicted_label'] = clf.predict(X_test_)\n",
      "/tmp/ipykernel_3514/2201871545.py:7: SettingWithCopyWarning: \n",
      "A value is trying to be set on a copy of a slice from a DataFrame.\n",
      "Try using .loc[row_indexer,col_indexer] = value instead\n",
      "\n",
      "See the caveats in the documentation: https://pandas.pydata.org/pandas-docs/stable/user_guide/indexing.html#returning-a-view-versus-a-copy\n",
      "  wikitq_test_['predicted_score'] = wikitq_test_.apply(f, axis=1)\n"
     ]
    },
    {
     "data": {
      "text/plain": [
       "np.float64(207.2)"
      ]
     },
     "execution_count": 354,
     "metadata": {},
     "output_type": "execute_result"
    }
   ],
   "source": [
    "# apply classifier and caculate the score\n",
    "\n",
    "wikitq_test_['predicted_label'] = 0.0\n",
    "wikitq_test_['predicted_label'] = clf.predict(X_test_)\n",
    "\n",
    "f = lambda x: x['image_c1r1_score'] if x['predicted_label'] == 0 else x['text_score']\n",
    "wikitq_test_['predicted_score'] = wikitq_test_.apply(f, axis=1)\n",
    "wikitq_test_['predicted_score'].sum()\n",
    " \n",
    "# 387.8\n",
    "# random forest -> 207.2 / 1000\n",
    "# xgboost -> 209.0 / 1000\n",
    "# logistic -> 216.4 / 1000"
   ]
  },
  {
   "cell_type": "code",
   "execution_count": null,
   "metadata": {},
   "outputs": [
    {
     "data": {
      "text/plain": [
       "np.float64(387.79999999999995)"
      ]
     },
     "execution_count": 341,
     "metadata": {},
     "output_type": "execute_result"
    }
   ],
   "source": [
    "wikitq_test__ = wikitq_test[wikitq_test['diff'] == 0]\n",
    "wikitq_test__['text_score'].sum() # 387.8\n",
    "\n",
    "# total -> 216.4 + 387.8 = 604.2 / 1000"
   ]
  },
  {
   "cell_type": "code",
   "execution_count": 342,
   "metadata": {},
   "outputs": [
    {
     "name": "stdout",
     "output_type": "stream",
     "text": [
      "Feature ranking:\n",
      "1. feature 1 (0.5593699310048456)\n",
      "2. feature 0 (0.2766232261382802)\n",
      "3. feature 2 (0.1640068428568741)\n"
     ]
    },
    {
     "data": {
      "image/png": "[encoded data removed]",
      "text/plain": [
       "<Figure size 640x480 with 1 Axes>"
      ]
     },
     "metadata": {},
     "output_type": "display_data"
    }
   ],
   "source": [
    "# feature importance\n",
    "importances = clf.feature_importances_\n",
    "std = np.std([tree.feature_importances_ for tree in clf.estimators_], axis=0)\n",
    "indices = np.argsort(importances)[::-1]\n",
    "\n",
    "# Print the feature ranking\n",
    "print(\"Feature ranking:\")\n",
    "for f in range(X.shape[1]):\n",
    "    print(f\"{f+1}. feature {indices[f]} ({importances[indices[f]]})\")\n",
    "\n",
    "# Plot the impurity-based feature importances of the forest\n",
    "import matplotlib.pyplot as plt\n",
    "plt.figure()\n",
    "plt.title(\"Feature importances\")\n",
    "plt.bar(range(X.shape[1]), importances[indices], color=\"r\", yerr=std[indices], align=\"center\")\n",
    "plt.xticks(range(X.shape[1]), indices)\n",
    "plt.xlim([-1, X.shape[1]])\n",
    "plt.show()\n"
   ]
  }
 ],
 "metadata": {
  "kernelspec": {
   "display_name": "base",
   "language": "python",
   "name": "python3"
  },
  "language_info": {
   "codemirror_mode": {
    "name": "ipython",
    "version": 3
   },
   "file_extension": ".py",
   "mimetype": "text/x-python",
   "name": "python",
   "nbconvert_exporter": "python",
   "pygments_lexer": "ipython3",
   "version": "3.10.15"
  }
 },
 "nbformat": 4,
 "nbformat_minor": 2
}
